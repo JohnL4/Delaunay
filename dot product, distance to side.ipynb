{
 "cells": [
  {
   "cell_type": "markdown",
   "metadata": {},
   "source": [
    "# Setup"
   ]
  },
  {
   "cell_type": "code",
   "execution_count": 1,
   "metadata": {},
   "outputs": [],
   "source": [
    "import numpy as num\n",
    "import scipy.special as scis # scis.gamma(5) --> 24 == 4!\n",
    "import matplotlib.pyplot as plt\n",
    "import math # math.exp(), math.sqrt(), math.factorial()\n",
    "import sympy as sym\n",
    "import sympy.vector as symvect\n",
    "\n",
    "sym.init_printing() # Only need to do this once per session."
   ]
  },
  {
   "cell_type": "code",
   "execution_count": 2,
   "metadata": {},
   "outputs": [],
   "source": [
    "x,y,x1,y1,x2,y2,epsilon = sym.symbols('x y x1 y1 x2 y2 epsilon')"
   ]
  },
  {
   "cell_type": "markdown",
   "metadata": {},
   "source": [
    "C is our coordinate system, with basis vectors $\\hat{i}$ and $\\hat{j}$ (and $\\hat{k}$, but we won't use that)."
   ]
  },
  {
   "cell_type": "code",
   "execution_count": 3,
   "metadata": {},
   "outputs": [],
   "source": [
    "C = symvect.CoordSys3D('') # As long as we restrict ourselves to vectors involving i & j, we'll have 2D vectors.\n",
    "        # We give the coordinate system no name (''), so we don't get unnecessary subscript clutter on the \n",
    "        # basis unit vectors when pretty-printed."
   ]
  },
  {
   "cell_type": "code",
   "execution_count": 4,
   "metadata": {
    "scrolled": true
   },
   "outputs": [
    {
     "data": {
      "image/png": "[encoded data removed]",
      "text/latex": [
       "$\\displaystyle x_{1} x_{2} + y_{1} y_{2}$"
      ],
      "text/plain": [
       "x₁⋅x₂ + y₁⋅y₂"
      ]
     },
     "execution_count": 4,
     "metadata": {},
     "output_type": "execute_result"
    }
   ],
   "source": [
    "v1 = x1*C.i + y1*C.j  # Symbolic computation.\n",
    "v2 = x2*C.i + y2*C.j\n",
    "v1.dot(v2)"
   ]
  },
  {
   "cell_type": "code",
   "execution_count": 5,
   "metadata": {
    "scrolled": true
   },
   "outputs": [
    {
     "data": {
      "image/png": "[encoded data removed]",
      "text/latex": [
       "$\\displaystyle (- x_{1} + x_{2})\\mathbf{\\hat{i}_{}} + (- y_{1} + y_{2})\\mathbf{\\hat{j}_{}}$"
      ],
      "text/plain": [
       "(-x1 + x2)*.i + (-y1 + y2)*.j"
      ]
     },
     "execution_count": 5,
     "metadata": {},
     "output_type": "execute_result"
    }
   ],
   "source": [
    "v2-v1"
   ]
  },
  {
   "cell_type": "markdown",
   "metadata": {},
   "source": [
    "# Dot product with side's left normal"
   ]
  },
  {
   "cell_type": "markdown",
   "metadata": {},
   "source": [
    "Let points $p_1$ and $p_2$ be defined as:\n",
    "$$\n",
    "% Each line terminated with \"\\\\\"\n",
    "p_1 = (x_1, y_1) \\\\\n",
    "p_2 = (x_2, y_2)\n",
    "$$\n",
    "\n",
    "The \"left normal\" of a vector $\\overrightarrow{p_{1}p_{2}}$ from $p_1$ to $p_2$, $(x_{2}, y_{2}) - (x_{1}, y_{1}) = (\\Delta x, \\Delta y)$, is $(-\\Delta y, \\Delta x)$."
   ]
  },
  {
   "cell_type": "code",
   "execution_count": 6,
   "metadata": {},
   "outputs": [
    {
     "data": {
      "image/png": "[encoded data removed]",
      "text/latex": [
       "$\\displaystyle (y_{1} - y_{2})\\mathbf{\\hat{i}_{}} + (- x_{1} + x_{2})\\mathbf{\\hat{j}_{}}$"
      ],
      "text/plain": [
       "(y1 - y2)*.i + (-x1 + x2)*.j"
      ]
     },
     "execution_count": 6,
     "metadata": {},
     "output_type": "execute_result"
    }
   ],
   "source": [
    "p1 = x1*C.i + y1*C.j\n",
    "p2 = x2*C.i + y2*C.j\n",
    "deltaY = y2-y1\n",
    "deltaX = x2-x1\n",
    "leftNormal = -deltaY*C.i + deltaX*C.j\n",
    "leftNormal"
   ]
  },
  {
   "cell_type": "markdown",
   "metadata": {},
   "source": [
    "Now we create a vector $\\overrightarrow{p_{1}p}$ from $p_1$ to a test point $p$ and take its dot product with $\\overrightarrow{p_{1}p_{2}}$:"
   ]
  },
  {
   "cell_type": "code",
   "execution_count": 7,
   "metadata": {},
   "outputs": [
    {
     "data": {
      "image/png": "[encoded data removed]",
      "text/latex": [
       "$\\displaystyle (x - x_{1})\\mathbf{\\hat{i}_{}} + (y - y_{1})\\mathbf{\\hat{j}_{}}$"
      ],
      "text/plain": [
       "(x - x1)*.i + (y - y1)*.j"
      ]
     },
     "execution_count": 7,
     "metadata": {},
     "output_type": "execute_result"
    }
   ],
   "source": [
    "p = x*C.i + y*C.j\n",
    "p1p = p - p1\n",
    "p1p"
   ]
  },
  {
   "cell_type": "code",
   "execution_count": 8,
   "metadata": {},
   "outputs": [
    {
     "data": {
      "image/png": "[encoded data removed]",
      "text/latex": [
       "$\\displaystyle \\left(x - x_{1}\\right) \\left(y_{1} - y_{2}\\right) + \\left(- x_{1} + x_{2}\\right) \\left(y - y_{1}\\right)$"
      ],
      "text/plain": [
       "(x - x₁)⋅(y₁ - y₂) + (-x₁ + x₂)⋅(y - y₁)"
      ]
     },
     "execution_count": 8,
     "metadata": {},
     "output_type": "execute_result"
    }
   ],
   "source": [
    "leftNormal.dot( p1p)"
   ]
  },
  {
   "cell_type": "markdown",
   "metadata": {},
   "source": [
    "...which is obvious, but I had made the mistake of trying to expand the above expression\n",
    "by hand and then simplify after cancelling some opposite-sign terms out and factoring.\n",
    "I think that was doomed to failure.\n",
    "\n",
    "Anyway, if the above expression is negative, then the test point $p$ is on the opposite side of the line segment $p_{1}p_{2}$ from $p_{1}p_{2}$'s left normal (so... it's on the right).\n",
    "\n",
    "We see that the totologic blog post has the signs reversed (presumably because\n",
    "he had the y-axis reversed for typical computer screens)."
   ]
  },
  {
   "cell_type": "markdown",
   "metadata": {},
   "source": [
    "# Distance from point to side (segment)"
   ]
  },
  {
   "cell_type": "markdown",
   "metadata": {},
   "source": [
    "![side-and-point sketch](side-and-point-sketch.png)"
   ]
  },
  {
   "cell_type": "markdown",
   "metadata": {},
   "source": [
    "We're going to find an expression for $d^2$, the distance $d$ of the test point $p$ from the triangle side $p_{1}p_{2}$, squared.\n",
    "\n",
    "$\\overrightarrow{p_{1}p_{2}} \\cdot \\overrightarrow{p_{1}p} = |\\overrightarrow{p_{1}p_{2}}| \\times |\\overrightarrow{p_{1}p}| \\times \\cos{\\theta}$, where $\\theta$ is the angle between the vectors."
   ]
  },
  {
   "cell_type": "code",
   "execution_count": 9,
   "metadata": {},
   "outputs": [
    {
     "data": {
      "image/png": "[encoded data removed]",
      "text/latex": [
       "$\\displaystyle \\left[ \\sqrt{2}, \\  \\sqrt{13}\\right]$"
      ],
      "text/plain": [
       "[√2, √13]"
      ]
     },
     "execution_count": 9,
     "metadata": {},
     "output_type": "execute_result"
    }
   ],
   "source": [
    "q1 = 1*C.i + 1*C.j\n",
    "q2 = 3*C.i + 2*C.j\n",
    "[q1.magnitude(), q2.magnitude()]"
   ]
  },
  {
   "cell_type": "code",
   "execution_count": 10,
   "metadata": {},
   "outputs": [
    {
     "data": {
      "image/png": "[encoded data removed]",
      "text/latex": [
       "$\\displaystyle 5$"
      ],
      "text/plain": [
       "5"
      ]
     },
     "execution_count": 10,
     "metadata": {},
     "output_type": "execute_result"
    }
   ],
   "source": [
    "q1.dot( q2)"
   ]
  },
  {
   "cell_type": "markdown",
   "metadata": {},
   "source": [
    "As you can see from above, multiplying big vectors _can_ result in big numbers.\n",
    "\n",
    "Using the definitions of $p_1$, $p_2$, and $p$ from above, we define vectors $\\overrightarrow{p_{1}p_{2}}$ and $\\overrightarrow{p_{1}p}$:"
   ]
  },
  {
   "cell_type": "code",
   "execution_count": 11,
   "metadata": {},
   "outputs": [
    {
     "data": {
      "image/png": "[encoded data removed]",
      "text/latex": [
       "$\\displaystyle \\left(x - x_{1}\\right) \\left(- x_{1} + x_{2}\\right) + \\left(y - y_{1}\\right) \\left(- y_{1} + y_{2}\\right)$"
      ],
      "text/plain": [
       "(x - x₁)⋅(-x₁ + x₂) + (y - y₁)⋅(-y₁ + y₂)"
      ]
     },
     "execution_count": 11,
     "metadata": {},
     "output_type": "execute_result"
    }
   ],
   "source": [
    "p1p2 = p2 - p1\n",
    "p1p = p - p1\n",
    "p1p2.dot( p1p)"
   ]
  },
  {
   "cell_type": "markdown",
   "metadata": {},
   "source": [
    "$|\\overrightarrow{p_{1}p}|^2$ is the length of a hypotenuse of a **right triangle**, squared."
   ]
  },
  {
   "cell_type": "code",
   "execution_count": 12,
   "metadata": {},
   "outputs": [
    {
     "data": {
      "image/png": "[encoded data removed]",
      "text/latex": [
       "$\\displaystyle \\left(x - x_{1}\\right)^{2} + \\left(y - y_{1}\\right)^{2}$"
      ],
      "text/plain": [
       "        2           2\n",
       "(x - x₁)  + (y - y₁) "
      ]
     },
     "execution_count": 12,
     "metadata": {},
     "output_type": "execute_result"
    }
   ],
   "source": [
    "hypSqrd = p1p.magnitude()**2\n",
    "hypSqrd"
   ]
  },
  {
   "cell_type": "markdown",
   "metadata": {},
   "source": [
    "### On unit vectors...\n",
    "\n",
    "A \"unit vector\" is a vector in the direction of some other vector, but having length 1.\n",
    "\n",
    "For example, if we have a vector $(10,0)$ (i.e., extending along the x-axis), the unit vector in that direction is $(1,0)$.\n",
    "\n",
    "Pretty simple, but suppose we have a vector $(2,3)$.  What is a vector pointing in the same direction but only having length 1?  We need to scale that vector back a bit, but by how much?  This is probably looking pretty obvious by now, but the length of $(2,3)$ is:"
   ]
  },
  {
   "cell_type": "code",
   "execution_count": 13,
   "metadata": {},
   "outputs": [
    {
     "data": {
      "image/png": "[encoded data removed]",
      "text/latex": [
       "$\\displaystyle \\sqrt{13}$"
      ],
      "text/plain": [
       "√13"
      ]
     },
     "execution_count": 13,
     "metadata": {},
     "output_type": "execute_result"
    }
   ],
   "source": [
    "b = (2*C.i + 3*C.j)\n",
    "b.magnitude()"
   ]
  },
  {
   "cell_type": "markdown",
   "metadata": {},
   "source": [
    "and the scaling is dividing by that length:"
   ]
  },
  {
   "cell_type": "code",
   "execution_count": 14,
   "metadata": {},
   "outputs": [
    {
     "data": {
      "image/png": "[encoded data removed]",
      "text/latex": [
       "$\\displaystyle 1$"
      ],
      "text/plain": [
       "1"
      ]
     },
     "execution_count": 14,
     "metadata": {},
     "output_type": "execute_result"
    }
   ],
   "source": [
    "(b / sym.sqrt(13)).magnitude()"
   ]
  },
  {
   "cell_type": "markdown",
   "metadata": {},
   "source": [
    "So, unit vector $\\hat{b}$ is\n",
    "\n",
    "$$\n",
    "\\hat{b} = \\frac{\\vec{b}}{|\\vec{b}|}\n",
    "$$\n",
    "\n",
    "So, the _projection_ of a vector $\\vec{a}$ on to another vector $\\vec{b}$ is a vector whose _length_ is the length of $\\vec{a}$ scaled by the cosine of the angle between $\\vec{a}$ and $\\vec{b}$, and whose _direction_ is the same as $\\hat{b}$.  In other words,\n",
    "\n",
    "$$\n",
    "\\overrightarrow{a_b} = |\\vec{a}| \\times \\cos \\theta \\times \\hat{b}\n",
    "$$\n",
    "\n",
    "(where $\\overrightarrow{a_b}$ is the projection of $\\vec{a}$ onto $\\vec{b}$.)\n",
    "\n",
    "But that expression is just\n",
    "\n",
    "$$\n",
    "\\vec{a} \\cdot \\frac{\\vec{b}}{|\\vec{b}|}\n",
    "$$\n",
    "\n",
    "Finally, the _length_ of the _projection_ is:"
   ]
  },
  {
   "cell_type": "code",
   "execution_count": 15,
   "metadata": {},
   "outputs": [
    {
     "data": {
      "image/png": "[encoded data removed]",
      "text/latex": [
       "$\\displaystyle \\sqrt{b_{x}^{2} + b_{y}^{2}}$"
      ],
      "text/plain": [
       "   ____________\n",
       "  ╱   2      2 \n",
       "╲╱  bₓ  + b_y  "
      ]
     },
     "execution_count": 15,
     "metadata": {},
     "output_type": "execute_result"
    }
   ],
   "source": [
    "(a_x, a_y, b_x, b_y) = sym.symbols('a_x a_y b_x b_y')\n",
    "a = a_x*C.i + a_y*C.j\n",
    "b = b_x*C.i + b_y*C.j\n",
    "b.magnitude()"
   ]
  },
  {
   "cell_type": "markdown",
   "metadata": {},
   "source": [
    "(where $a_x$ and $a_y$ are the x- and y-components of $a$, and likewise for $b$.)"
   ]
  },
  {
   "cell_type": "code",
   "execution_count": 16,
   "metadata": {
    "scrolled": true
   },
   "outputs": [
    {
     "data": {
      "image/png": "[encoded data removed]",
      "text/latex": [
       "$\\displaystyle \\frac{a_{x} b_{x}}{\\sqrt{b_{x}^{2} + b_{y}^{2}}} + \\frac{a_{y} b_{y}}{\\sqrt{b_{x}^{2} + b_{y}^{2}}}$"
      ],
      "text/plain": [
       "     aₓ⋅bₓ            a_y⋅b_y    \n",
       "─────────────── + ───────────────\n",
       "   ____________      ____________\n",
       "  ╱   2      2      ╱   2      2 \n",
       "╲╱  bₓ  + b_y     ╲╱  bₓ  + b_y  "
      ]
     },
     "execution_count": 16,
     "metadata": {},
     "output_type": "execute_result"
    }
   ],
   "source": [
    "proj = a.dot( b / b.magnitude())\n",
    "proj"
   ]
  },
  {
   "cell_type": "markdown",
   "metadata": {},
   "source": [
    "Or"
   ]
  },
  {
   "cell_type": "code",
   "execution_count": 17,
   "metadata": {},
   "outputs": [
    {
     "data": {
      "image/png": "[encoded data removed]",
      "text/latex": [
       "$\\displaystyle \\frac{a_{x} b_{x} + a_{y} b_{y}}{\\sqrt{b_{x}^{2} + b_{y}^{2}}}$"
      ],
      "text/plain": [
       "aₓ⋅bₓ + a_y⋅b_y\n",
       "───────────────\n",
       "   ____________\n",
       "  ╱   2      2 \n",
       "╲╱  bₓ  + b_y  "
      ]
     },
     "execution_count": 17,
     "metadata": {},
     "output_type": "execute_result"
    }
   ],
   "source": [
    "proj = (a.dot(b)) / b.magnitude()\n",
    "proj"
   ]
  },
  {
   "cell_type": "markdown",
   "metadata": {},
   "source": [
    "And, since we hate taking square roots unnecessarily when computering, if we square the above expression to get rid of the radical..."
   ]
  },
  {
   "cell_type": "code",
   "execution_count": 18,
   "metadata": {},
   "outputs": [
    {
     "data": {
      "image/png": "[encoded data removed]",
      "text/latex": [
       "$\\displaystyle \\frac{\\left(a_{x} b_{x} + a_{y} b_{y}\\right)^{2}}{b_{x}^{2} + b_{y}^{2}}$"
      ],
      "text/plain": [
       "                 2\n",
       "(aₓ⋅bₓ + a_y⋅b_y) \n",
       "──────────────────\n",
       "      2      2    \n",
       "    bₓ  + b_y     "
      ]
     },
     "execution_count": 18,
     "metadata": {},
     "output_type": "execute_result"
    }
   ],
   "source": [
    "proj**2"
   ]
  },
  {
   "cell_type": "markdown",
   "metadata": {},
   "source": [
    "### Having established the basics of projection...\n",
    "\n",
    "One leg of the right triangle, the projection of $\\overrightarrow{p_{1}p}$ onto $\\overrightarrow{p_{1}p_{2}}$, has length squared equal to\n",
    "\n",
    "$$\n",
    "\\frac{(\\overrightarrow{p_{1}p_{2}} \\cdot \\overrightarrow{p_{1}p})^2}{|\\overrightarrow{p_{1}p_{2}}|^2}\n",
    "$$"
   ]
  },
  {
   "cell_type": "code",
   "execution_count": 19,
   "metadata": {},
   "outputs": [
    {
     "data": {
      "image/png": "[encoded data removed]",
      "text/latex": [
       "$\\displaystyle \\left(x_{1} - x_{2}\\right)^{2} + \\left(y_{1} - y_{2}\\right)^{2}$"
      ],
      "text/plain": [
       "         2            2\n",
       "(x₁ - x₂)  + (y₁ - y₂) "
      ]
     },
     "execution_count": 19,
     "metadata": {},
     "output_type": "execute_result"
    }
   ],
   "source": [
    "p1p2Sqrd = p1p2.magnitude()**2\n",
    "sym.simplify( p1p2Sqrd)"
   ]
  },
  {
   "cell_type": "markdown",
   "metadata": {},
   "source": [
    "First, real quick, let's check our variables and make sure nothing's changed, inadvertently."
   ]
  },
  {
   "cell_type": "code",
   "execution_count": 20,
   "metadata": {},
   "outputs": [
    {
     "data": {
      "text/plain": [
       "{'p1': x1*.i + y1*.j,\n",
       " 'p2': x2*.i + y2*.j,\n",
       " 'p': x*.i + y*.j,\n",
       " 'p1p': (x - x1)*.i + (y - y1)*.j,\n",
       " 'p1p2': (-x1 + x2)*.i + (-y1 + y2)*.j,\n",
       " 'p1p2Sqrd': (-x1 + x2)**2 + (-y1 + y2)**2}"
      ]
     },
     "execution_count": 20,
     "metadata": {},
     "output_type": "execute_result"
    }
   ],
   "source": [
    "dict( p1=p1, p2=p2, p=p, p1p=p1p, p1p2=p1p2, p1p2Sqrd=p1p2Sqrd)"
   ]
  },
  {
   "cell_type": "code",
   "execution_count": 21,
   "metadata": {},
   "outputs": [
    {
     "data": {
      "image/png": "[encoded data removed]",
      "text/latex": [
       "$\\displaystyle \\frac{\\left(\\left(x - x_{1}\\right) \\left(x_{1} - x_{2}\\right) + \\left(y - y_{1}\\right) \\left(y_{1} - y_{2}\\right)\\right)^{2}}{\\left(x_{1} - x_{2}\\right)^{2} + \\left(y_{1} - y_{2}\\right)^{2}}$"
      ],
      "text/plain": [
       "                                         2\n",
       "((x - x₁)⋅(x₁ - x₂) + (y - y₁)⋅(y₁ - y₂)) \n",
       "──────────────────────────────────────────\n",
       "                  2            2          \n",
       "         (x₁ - x₂)  + (y₁ - y₂)           "
      ]
     },
     "execution_count": 21,
     "metadata": {},
     "output_type": "execute_result"
    }
   ],
   "source": [
    "projSqrd = (p1p.dot( p1p2)**2 / p1p2Sqrd)\n",
    "sym.simplify( projSqrd)"
   ]
  },
  {
   "cell_type": "markdown",
   "metadata": {},
   "source": [
    "Length $d$ of remaining leg of triangle is unknown, *but* Pythagoras tells us \n",
    "\n",
    "$$\n",
    "|\\overrightarrow{p_{1}p}|^2 - (\\overrightarrow{p_{1}p} \\cdot \\overrightarrow{p_{1}p_{2}})^2 / |\\overrightarrow{p_{1}p_{2}}|^2 = d^2\n",
    "$$"
   ]
  },
  {
   "cell_type": "code",
   "execution_count": 22,
   "metadata": {},
   "outputs": [
    {
     "data": {
      "image/png": "[encoded data removed]",
      "text/latex": [
       "$\\displaystyle \\left(x - x_{1}\\right)^{2} + \\left(y - y_{1}\\right)^{2} - \\frac{\\left(\\left(x - x_{1}\\right) \\left(- x_{1} + x_{2}\\right) + \\left(y - y_{1}\\right) \\left(- y_{1} + y_{2}\\right)\\right)^{2}}{\\left(- x_{1} + x_{2}\\right)^{2} + \\left(- y_{1} + y_{2}\\right)^{2}}$"
      ],
      "text/plain": [
       "                                                                   2\n",
       "        2           2   ((x - x₁)⋅(-x₁ + x₂) + (y - y₁)⋅(-y₁ + y₂)) \n",
       "(x - x₁)  + (y - y₁)  - ────────────────────────────────────────────\n",
       "                                           2             2          \n",
       "                                 (-x₁ + x₂)  + (-y₁ + y₂)           "
      ]
     },
     "execution_count": 22,
     "metadata": {},
     "output_type": "execute_result"
    }
   ],
   "source": [
    "dSqrd = hypSqrd - projSqrd\n",
    "dSqrd"
   ]
  },
  {
   "cell_type": "markdown",
   "metadata": {},
   "source": [
    "## A little exercise checking correctness so far\n",
    "\n",
    "If we set up a simple test of a vertical line of length 2 (from (0,-1) to (0,1)), and a test point on the\n",
    "x-axis ($y=0$) being brought to the y-axis (x -> 0), then the distance of the test point from the line\n",
    "segment should be exactly $x$. And it is (don't forget we're calculating distance SQUARED):"
   ]
  },
  {
   "cell_type": "code",
   "execution_count": 23,
   "metadata": {},
   "outputs": [
    {
     "data": {
      "image/png": "[encoded data removed]",
      "text/latex": [
       "$\\displaystyle x^{2}$"
      ],
      "text/plain": [
       " 2\n",
       "x "
      ]
     },
     "execution_count": 23,
     "metadata": {},
     "output_type": "execute_result"
    }
   ],
   "source": [
    "dSqrd.subs(x1,0).subs(y1,-1).subs(x2,0).subs(y2,1).subs(y,0)"
   ]
  },
  {
   "cell_type": "markdown",
   "metadata": {},
   "source": [
    "If our test point is at $(1,y)$ and we're projecting onto a vertical line on the y-axis, it doesn't matter\n",
    "what our $x$ value is, because only the $y$ value determines what the projection will be. And if $y$ is\n",
    "larger than the length of our (vertical, in this example) \"triangle side\" $p_{1}p_{2}$, then so be it, the projection will also be large."
   ]
  },
  {
   "cell_type": "code",
   "execution_count": 24,
   "metadata": {},
   "outputs": [
    {
     "data": {
      "image/png": "[encoded data removed]",
      "text/latex": [
       "$\\displaystyle y^{2}$"
      ],
      "text/plain": [
       " 2\n",
       "y "
      ]
     },
     "execution_count": 24,
     "metadata": {},
     "output_type": "execute_result"
    }
   ],
   "source": [
    "projSqrd.subs(x1,0).subs(y1,0).subs(x2,0).subs(y2,2).subs(x,1)"
   ]
  },
  {
   "cell_type": "code",
   "execution_count": 25,
   "metadata": {},
   "outputs": [
    {
     "data": {
      "image/png": "[encoded data removed]",
      "text/latex": [
       "$\\displaystyle 100$"
      ],
      "text/plain": [
       "100"
      ]
     },
     "execution_count": 25,
     "metadata": {},
     "output_type": "execute_result"
    }
   ],
   "source": [
    "projSqrd.subs(x1,0).subs(y1,0).subs(x2,0).subs(y2,2).subs(x,1).subs(y,10)"
   ]
  },
  {
   "cell_type": "markdown",
   "metadata": {},
   "source": [
    "So, we have to check if the projection is larger than $|\\overrightarrow{p_{1}p_{2}}|$, and, if so, we know that the test vector $\\overrightarrow{p_{1}p}$ is actually LONGER than the triangle side, so we truncate the testing against $\\epsilon^2$ by simply computing the distance from the test point $p$ to $p_2$, the other (\"far\") end of the triangle side.\n",
    "\n",
    "That's not described in this document, but it is in the code."
   ]
  },
  {
   "cell_type": "markdown",
   "metadata": {},
   "source": [
    "## Reducing math operations\n",
    "\n",
    "Ideally, we'd like to keep the number of multiplications and divisions to a minimum, and the number square roots and other transcendental functions to zero, in order to make the code fastfastfast.  (Well, it's gonna be Haskell, but, ya know... the principle of the thing.)\n",
    "\n",
    "(Note on divisions: any time a division by the difference of two numbers occurs, that's a danger sign.  If the two numbers are almost equal in value, you're dividing by a very small value (yielding a very large value), and if there are errors in the two numbers you're subtracting (say, because they're just digital approximations of real values) you can wind up with very big errors in your result.  Avoid dividing by differences, if you can.  Or maybe find a way to throw a $+1$ in the denominator.)\n",
    "\n",
    "So, our distance-to-side code looks like this:\n",
    "\n",
    "   1. If dot product is negative, angle is obtuse, projection will be off side near $p_1$, and we might as well just calculate distance to $p_1$.\n",
    "   2. If the projection is longer than $p_{1}p_{2}$, the same logic leads us to calculating the distance to $p_2$.  Since calculating the length of $p_{1}p_{2}$ involves dividing by a square root, let's try to avoid that.  We're just comparing two numbers for greater-than, anyway.\n",
    "   3. Otherwise, yeah, go ahead and run the full algorithm, but _remember_: we just want to know if the distance is within epsilon ($\\epsilon$), since we're only running this distance-to-side algorithm if previously-attempted algorithms have _failed_, declaring this point to be _outside_ the triangle.\n",
    "   \n",
    "Here's our code at this moment, before we start verifying/improving it, along with a monstrous chunk of commented-out copied from the totologic blog post:\n",
    "\n",
    "```haskell\n",
    "-- | Computes square of distance from given point to given side.\n",
    "distanceSqrdPointToSide :: Point -> Point -> Point -> Double\n",
    "distanceSqrdPointToSide\n",
    "  (Point _ (x,y))               -- ^ The point under test\n",
    "  (Point _ (x1,y1))             -- ^ Starting point of side\n",
    "  (Point _ (x2,y2))             -- ^ Ending point of side\n",
    "  = let p1p2LengthSqrd = (x2-x1)*(x2-x1) + (y2-y1)*(y2-y1)\n",
    "        dotProduct = ((x-x1)*(x2-x1) + (y-y1)*(y2-y1)) / p1p2LengthSqrd\n",
    "        pp1LengthSqrd = (x1 - x)*(x1 - x) + (y1 - y)*(y1 - y)\n",
    "    in\n",
    "      if dotProduct < 0       then pp1LengthSqrd -- Angle > 90°, closest point of side IS p1\n",
    "      else if dotProduct <= 1 then pp1LengthSqrd - dotProduct * dotProduct * p1p2LengthSqrd\n",
    "                              else (x - x2)*(x - x2) + (y - y2)*(y - y2)\n",
    "\n",
    "      -- TODO: not at ALL sure this is correct.\n",
    "\n",
    "{-\n",
    "    function distanceSquarePointToSegment(x1, y1, x2, y2, x, y:Number):Number\n",
    "    {\n",
    "     var p1_p2_squareLength:Number = (x2 - x1)*(x2 - x1) + (y2 - y1)*(y2 - y1);\n",
    "     var dotProduct:Number = ((x - x1)*(x2 - x1) + (y - y1)*(y2 - y1)) / p1_p2_squareLength;\n",
    "     if ( dotProduct < 0 )\n",
    "     {\n",
    "      return (x - x1)*(x - x1) + (y - y1)*(y - y1);\n",
    "     }\n",
    "     else if ( dotProduct <= 1 )\n",
    "     {\n",
    "      var p_p1_squareLength:Number = (x1 - x)*(x1 - x) + (y1 - y)*(y1 - y);\n",
    "      return p_p1_squareLength - dotProduct * dotProduct * p1_p2_squareLength;\n",
    "     }\n",
    "     else\n",
    "     {\n",
    "      return (x - x2)*(x - x2) + (y - y2)*(y - y2);\n",
    "     }\n",
    "    }\n",
    "-}\n",
    "```\n",
    "\n",
    "```p1p2LengthSqrd``` looks right.  The signs are reversed, but who cares, because it's going to be squared.\n",
    "\n",
    "```dotProduct``` needs to change, if possible, because we're dividing (bad) by differences (real bad).  How is it used?\n",
    "\n",
    "  1. It's compared to 0 and 1.  Easy fix: compare to 0 and the thing it's divided by.\n",
    "  2. It's multiplied by the thing it's divided by.  Duh, cancel those terms out.  \n",
    "  \n",
    "But first, make sure that math is correct.  We're checking to see that the projection is shorter than the side.  ```p1pLengthSqrd``` is the _hypotenuse_ length, and we want to subtract the _length_ of the projection from it, to get $d^2$, the length of the unknown side.\n",
    "\n",
    "In that calculation, why are we multiplying by ```p1p2LengthSqrd```?"
   ]
  },
  {
   "cell_type": "markdown",
   "metadata": {},
   "source": [
    "Let's multiply ```dSqrd``` through by ```p1p2Sqrd```."
   ]
  },
  {
   "cell_type": "code",
   "execution_count": 26,
   "metadata": {},
   "outputs": [
    {
     "data": {
      "image/png": "[encoded data removed]",
      "text/latex": [
       "$\\displaystyle \\left(\\left(- x_{1} + x_{2}\\right)^{2} + \\left(- y_{1} + y_{2}\\right)^{2}\\right) \\left(\\left(x - x_{1}\\right)^{2} + \\left(y - y_{1}\\right)^{2} - \\frac{\\left(\\left(x - x_{1}\\right) \\left(- x_{1} + x_{2}\\right) + \\left(y - y_{1}\\right) \\left(- y_{1} + y_{2}\\right)\\right)^{2}}{\\left(- x_{1} + x_{2}\\right)^{2} + \\left(- y_{1} + y_{2}\\right)^{2}}\\right)$"
      ],
      "text/plain": [
       "                            ⎛                                                 \n",
       "⎛          2             2⎞ ⎜        2           2   ((x - x₁)⋅(-x₁ + x₂) + (y\n",
       "⎝(-x₁ + x₂)  + (-y₁ + y₂) ⎠⋅⎜(x - x₁)  + (y - y₁)  - ─────────────────────────\n",
       "                            ⎜                                           2     \n",
       "                            ⎝                                 (-x₁ + x₂)  + (-\n",
       "\n",
       "                  2⎞\n",
       " - y₁)⋅(-y₁ + y₂)) ⎟\n",
       "───────────────────⎟\n",
       "        2          ⎟\n",
       "y₁ + y₂)           ⎠"
      ]
     },
     "execution_count": 26,
     "metadata": {},
     "output_type": "execute_result"
    }
   ],
   "source": [
    "dSqrd * p1p2Sqrd"
   ]
  },
  {
   "cell_type": "code",
   "execution_count": 27,
   "metadata": {},
   "outputs": [
    {
     "data": {
      "image/png": "[encoded data removed]",
      "text/latex": [
       "$\\displaystyle - \\left(\\left(x - x_{1}\\right) \\left(x_{1} - x_{2}\\right) + \\left(y - y_{1}\\right) \\left(y_{1} - y_{2}\\right)\\right)^{2} + \\left(\\left(x - x_{1}\\right)^{2} + \\left(y - y_{1}\\right)^{2}\\right) \\left(\\left(x_{1} - x_{2}\\right)^{2} + \\left(y_{1} - y_{2}\\right)^{2}\\right)$"
      ],
      "text/plain": [
       "                                           2   ⎛        2           2⎞ ⎛      \n",
       "- ((x - x₁)⋅(x₁ - x₂) + (y - y₁)⋅(y₁ - y₂))  + ⎝(x - x₁)  + (y - y₁) ⎠⋅⎝(x₁ - \n",
       "\n",
       "   2            2⎞\n",
       "x₂)  + (y₁ - y₂) ⎠"
      ]
     },
     "execution_count": 27,
     "metadata": {},
     "output_type": "execute_result"
    }
   ],
   "source": [
    "sym.simplify( dSqrd * p1p2Sqrd)"
   ]
  },
  {
   "cell_type": "markdown",
   "metadata": {},
   "source": [
    "And multiply $\\epsilon^2$ by the same figure (```p1p2Sqrd```) and compare those two values.  Means we need to pass $\\epsilon$ as an argument to the distance function.  And/or rename it?  ```withinEpsilonOf```, maybe?"
   ]
  }
 ],
 "metadata": {
  "kernelspec": {
   "display_name": "Python 3",
   "language": "python",
   "name": "python3"
  },
  "language_info": {
   "codemirror_mode": {
    "name": "ipython",
    "version": 3
   },
   "file_extension": ".py",
   "mimetype": "text/x-python",
   "name": "python",
   "nbconvert_exporter": "python",
   "pygments_lexer": "ipython3",
   "version": "3.7.3"
  }
 },
 "nbformat": 4,
 "nbformat_minor": 2
}
