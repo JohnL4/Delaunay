{
 "cells": [
  {
   "cell_type": "markdown",
   "metadata": {},
   "source": [
    "# Setup"
   ]
  },
  {
   "cell_type": "code",
   "execution_count": 60,
   "metadata": {},
   "outputs": [],
   "source": [
    "import numpy as num\n",
    "import scipy.special as scis # scis.gamma(5) --> 24 == 4!\n",
    "import matplotlib.pyplot as plt\n",
    "import math # math.exp(), math.sqrt(), math.factorial()\n",
    "import sympy as sym\n",
    "import sympy.vector as symvect\n",
    "\n",
    "sym.init_printing() # Only need to do this once per session."
   ]
  },
  {
   "cell_type": "code",
   "execution_count": 18,
   "metadata": {},
   "outputs": [],
   "source": [
    "x,y,x1,y1,x2,y2 = sym.symbols('x y x1 y1 x2 y2')"
   ]
  },
  {
   "cell_type": "markdown",
   "metadata": {},
   "source": [
    "C is our coordinate system, with basis vectors $\\hat{i}$ and $\\hat{j}$ (and $\\hat{k}$, but we won't use that)."
   ]
  },
  {
   "cell_type": "code",
   "execution_count": 74,
   "metadata": {},
   "outputs": [],
   "source": [
    "C = symvect.CoordSys3D('') # As long as we restrict ourselves to vectors involving i & j, we'll have 2D vectors.\n",
    "        # We give the coordinate system no name (''), so we don't get unnecessary subscript clutter on the \n",
    "        # basis unit vectors when pretty-printed."
   ]
  },
  {
   "cell_type": "code",
   "execution_count": 75,
   "metadata": {
    "scrolled": true
   },
   "outputs": [
    {
     "data": {
      "image/png": "[encoded data removed]",
      "text/latex": [
       "$\\displaystyle x_{1} x_{2} + y_{1} y_{2}$"
      ],
      "text/plain": [
       "x₁⋅x₂ + y₁⋅y₂"
      ]
     },
     "execution_count": 75,
     "metadata": {},
     "output_type": "execute_result"
    }
   ],
   "source": [
    "v1 = x1*C.i + y1*C.j  # Symbolic computation.\n",
    "v2 = x2*C.i + y2*C.j\n",
    "v1.dot(v2)"
   ]
  },
  {
   "cell_type": "code",
   "execution_count": 76,
   "metadata": {
    "scrolled": true
   },
   "outputs": [
    {
     "data": {
      "image/png": "[encoded data removed]",
      "text/latex": [
       "$\\displaystyle (- x_{1} + x_{2})\\mathbf{\\hat{i}_{}} + (- y_{1} + y_{2})\\mathbf{\\hat{j}_{}}$"
      ],
      "text/plain": [
       "(-x1 + x2)*.i + (-y1 + y2)*.j"
      ]
     },
     "execution_count": 76,
     "metadata": {},
     "output_type": "execute_result"
    }
   ],
   "source": [
    "v2-v1"
   ]
  },
  {
   "cell_type": "markdown",
   "metadata": {},
   "source": [
    "# Dot product with side's left normal"
   ]
  },
  {
   "cell_type": "markdown",
   "metadata": {},
   "source": [
    "Let points $p_1$ and $p_2$ be defined as:\n",
    "$$\n",
    "% Each line terminated with \"\\\\\"\n",
    "p_1 = (x_1, y_1) \\\\\n",
    "p_2 = (x_2, y_2)\n",
    "$$\n",
    "\n",
    "The \"left normal\" of a vector $\\overrightarrow{p_{1}p_{2}}$ from $p_1$ to $p_2$, $(x_{2}, y_{2}) - (x_{1}, y_{1}) = (\\Delta x, \\Delta y)$, is $(-\\Delta y, \\Delta x)$."
   ]
  },
  {
   "cell_type": "code",
   "execution_count": 77,
   "metadata": {},
   "outputs": [
    {
     "data": {
      "image/png": "[encoded data removed]",
      "text/latex": [
       "$\\displaystyle (y_{1} - y_{2})\\mathbf{\\hat{i}_{}} + (- x_{1} + x_{2})\\mathbf{\\hat{j}_{}}$"
      ],
      "text/plain": [
       "(y1 - y2)*.i + (-x1 + x2)*.j"
      ]
     },
     "execution_count": 77,
     "metadata": {},
     "output_type": "execute_result"
    }
   ],
   "source": [
    "p1 = x1*C.i + y1*C.j\n",
    "p2 = x2*C.i + y2*C.j\n",
    "deltaY = y2-y1\n",
    "deltaX = x2-x1\n",
    "leftNormal = -deltaY*C.i + deltaX*C.j\n",
    "leftNormal"
   ]
  },
  {
   "cell_type": "markdown",
   "metadata": {},
   "source": [
    "Now we create a vector $\\overrightarrow{p_{1}p}$ from $p_1$ to a test point $p$ and take its dot product with $\\overrightarrow{p_{1}p_{2}}$:"
   ]
  },
  {
   "cell_type": "code",
   "execution_count": 78,
   "metadata": {},
   "outputs": [
    {
     "data": {
      "image/png": "[encoded data removed]",
      "text/latex": [
       "$\\displaystyle (x - x_{1})\\mathbf{\\hat{i}_{}} + (y - y_{1})\\mathbf{\\hat{j}_{}}$"
      ],
      "text/plain": [
       "(x - x1)*.i + (y - y1)*.j"
      ]
     },
     "execution_count": 78,
     "metadata": {},
     "output_type": "execute_result"
    }
   ],
   "source": [
    "p = x*C.i + y*C.j\n",
    "p1p = p - p1\n",
    "p1p"
   ]
  },
  {
   "cell_type": "code",
   "execution_count": 79,
   "metadata": {},
   "outputs": [
    {
     "data": {
      "image/png": "[encoded data removed]",
      "text/latex": [
       "$\\displaystyle \\left(x - x_{1}\\right) \\left(y_{1} - y_{2}\\right) + \\left(- x_{1} + x_{2}\\right) \\left(y - y_{1}\\right)$"
      ],
      "text/plain": [
       "(x - x₁)⋅(y₁ - y₂) + (-x₁ + x₂)⋅(y - y₁)"
      ]
     },
     "execution_count": 79,
     "metadata": {},
     "output_type": "execute_result"
    }
   ],
   "source": [
    "leftNormal.dot( p1p)"
   ]
  },
  {
   "cell_type": "markdown",
   "metadata": {},
   "source": [
    "...which is obvious, but I had made the mistake of trying to expand the above expression\n",
    "by hand and then simplify after cancelling some opposite-sign terms out and factoring.\n",
    "I think that was doomed to failure.\n",
    "\n",
    "Anyway, if the above expression is negative, then the test point $p$ is on the opposite side of the line segment $p_{1}p_{2}$ from $p_{1}p_{2}$'s left normal (so... it's on the right).\n",
    "\n",
    "We see that the totologic blog post has the signs reversed (presumably because\n",
    "he had the y-axis reversed for typical computer screens)."
   ]
  },
  {
   "cell_type": "markdown",
   "metadata": {},
   "source": [
    "# Distance from point to side (segment)"
   ]
  },
  {
   "cell_type": "markdown",
   "metadata": {},
   "source": [
    "We're going to find an expression for $d^2$, the distance $d$ of the test point from the triangle side, squared.\n",
    "\n",
    "$\\overrightarrow{p_{1}p_{2}} \\cdot \\overrightarrow{p_{1}p} = |\\overrightarrow{p_{1}p_{2}}| \\times |\\overrightarrow{p_{1}p}| \\times \\cos{\\theta}$, where $\\theta$ is the angle between the vectors."
   ]
  },
  {
   "cell_type": "code",
   "execution_count": 81,
   "metadata": {},
   "outputs": [
    {
     "data": {
      "image/png": "[encoded data removed]",
      "text/latex": [
       "$\\displaystyle \\left(x - x_{1}\\right) \\left(- x_{1} + x_{2}\\right) + \\left(y - y_{1}\\right) \\left(- y_{1} + y_{2}\\right)$"
      ],
      "text/plain": [
       "(x - x₁)⋅(-x₁ + x₂) + (y - y₁)⋅(-y₁ + y₂)"
      ]
     },
     "execution_count": 81,
     "metadata": {},
     "output_type": "execute_result"
    }
   ],
   "source": [
    "p1p2 = p2 - p1\n",
    "p1p = p - p1\n",
    "p1p2.dot( p1p)"
   ]
  },
  {
   "cell_type": "markdown",
   "metadata": {},
   "source": [
    "$|\\overrightarrow{p_{1}p}|^2$ is the length of a hypotenuse of a right triangle, squared."
   ]
  },
  {
   "cell_type": "code",
   "execution_count": 85,
   "metadata": {},
   "outputs": [
    {
     "data": {
      "image/png": "[encoded data removed]",
      "text/latex": [
       "$\\displaystyle \\left(x - x_{1}\\right)^{2} + \\left(y - y_{1}\\right)^{2}$"
      ],
      "text/plain": [
       "        2           2\n",
       "(x - x₁)  + (y - y₁) "
      ]
     },
     "execution_count": 85,
     "metadata": {},
     "output_type": "execute_result"
    }
   ],
   "source": [
    "hypSqrd = p1p.magnitude()**2\n",
    "hypSqrd"
   ]
  },
  {
   "cell_type": "markdown",
   "metadata": {},
   "source": [
    "One leg of right triangle, the projection of p1p onto p1p2, has length squared equal to\n",
    "\n",
    "$$\n",
    "\\frac{(\\overrightarrow{p_{1}p_{2}} \\cdot \\overrightarrow{p_{1}p})^2}{|\\overrightarrow{p_{1}p_{2}}|^2}\n",
    "$$"
   ]
  },
  {
   "cell_type": "code",
   "execution_count": 86,
   "metadata": {},
   "outputs": [
    {
     "data": {
      "image/png": "[encoded data removed]",
      "text/latex": [
       "$\\displaystyle \\left(- x_{1} + x_{2}\\right)^{2} + \\left(- y_{1} + y_{2}\\right)^{2}$"
      ],
      "text/plain": [
       "          2             2\n",
       "(-x₁ + x₂)  + (-y₁ + y₂) "
      ]
     },
     "execution_count": 86,
     "metadata": {},
     "output_type": "execute_result"
    }
   ],
   "source": [
    "p1p2Sqrd = p1p2.magnitude()**2\n",
    "p1p2Sqrd"
   ]
  },
  {
   "cell_type": "code",
   "execution_count": 87,
   "metadata": {},
   "outputs": [
    {
     "data": {
      "image/png": "[encoded data removed]",
      "text/latex": [
       "$\\displaystyle \\frac{\\left(\\left(x - x_{1}\\right) \\left(- x_{1} + x_{2}\\right) + \\left(y - y_{1}\\right) \\left(- y_{1} + y_{2}\\right)\\right)^{2}}{\\left(- x_{1} + x_{2}\\right)^{2} + \\left(- y_{1} + y_{2}\\right)^{2}}$"
      ],
      "text/plain": [
       "                                           2\n",
       "((x - x₁)⋅(-x₁ + x₂) + (y - y₁)⋅(-y₁ + y₂)) \n",
       "────────────────────────────────────────────\n",
       "                   2             2          \n",
       "         (-x₁ + x₂)  + (-y₁ + y₂)           "
      ]
     },
     "execution_count": 87,
     "metadata": {},
     "output_type": "execute_result"
    }
   ],
   "source": [
    "projSqrd = (p1p.dot( p1p2)**2 / p1p2Sqrd)\n",
    "projSqrd"
   ]
  },
  {
   "cell_type": "markdown",
   "metadata": {},
   "source": [
    "Length $d$ of remaining leg of triangle is unknown, *but* Pythagoras tells us \n",
    "\n",
    "$$\n",
    "|\\overrightarrow{p_{1}p}|^2 - (\\overrightarrow{p_{1}p} \\cdot \\overrightarrow{p_{1}p_{2}})^2 / |\\overrightarrow{p_{1}p_{2}}|^2 = d^2\n",
    "$$"
   ]
  },
  {
   "cell_type": "code",
   "execution_count": 88,
   "metadata": {},
   "outputs": [
    {
     "data": {
      "image/png": "[encoded data removed]",
      "text/latex": [
       "$\\displaystyle \\left(x - x_{1}\\right)^{2} + \\left(y - y_{1}\\right)^{2} - \\frac{\\left(\\left(x - x_{1}\\right) \\left(- x_{1} + x_{2}\\right) + \\left(y - y_{1}\\right) \\left(- y_{1} + y_{2}\\right)\\right)^{2}}{\\left(- x_{1} + x_{2}\\right)^{2} + \\left(- y_{1} + y_{2}\\right)^{2}}$"
      ],
      "text/plain": [
       "                                                                   2\n",
       "        2           2   ((x - x₁)⋅(-x₁ + x₂) + (y - y₁)⋅(-y₁ + y₂)) \n",
       "(x - x₁)  + (y - y₁)  - ────────────────────────────────────────────\n",
       "                                           2             2          \n",
       "                                 (-x₁ + x₂)  + (-y₁ + y₂)           "
      ]
     },
     "execution_count": 88,
     "metadata": {},
     "output_type": "execute_result"
    }
   ],
   "source": [
    "dSqrd = hypSqrd - projSqrd\n",
    "dSqrd"
   ]
  },
  {
   "cell_type": "markdown",
   "metadata": {},
   "source": [
    "If we set up a simple test of a vertical line of length 2 (from (0,-1) to (0,1)), and a test point on the\n",
    "x-axis (y=0) being brought to the y-axis (x -> 0), then the distance of the test point from the line\n",
    "segment should be exactly x. And it is (don't forget we're calculating distance SQUARED):"
   ]
  },
  {
   "cell_type": "code",
   "execution_count": 91,
   "metadata": {},
   "outputs": [
    {
     "data": {
      "image/png": "[encoded data removed]",
      "text/latex": [
       "$\\displaystyle x^{2}$"
      ],
      "text/plain": [
       " 2\n",
       "x "
      ]
     },
     "execution_count": 91,
     "metadata": {},
     "output_type": "execute_result"
    }
   ],
   "source": [
    "dSqrd.subs(x1,0).subs(y1,-1).subs(x2,0).subs(y2,1).subs(y,0)"
   ]
  },
  {
   "cell_type": "markdown",
   "metadata": {},
   "source": [
    "If our test point is at (1,y) and we're projecting onto a vertical line on the y-axis, it doesn't matter\n",
    "what our x value is, because only the y value determines what the projection will be. And if y is\n",
    "larger than the length of our \"triangle side\" p1p2, then so be it, the projection will also be large."
   ]
  },
  {
   "cell_type": "code",
   "execution_count": 92,
   "metadata": {},
   "outputs": [
    {
     "data": {
      "image/png": "[encoded data removed]",
      "text/latex": [
       "$\\displaystyle y^{2}$"
      ],
      "text/plain": [
       " 2\n",
       "y "
      ]
     },
     "execution_count": 92,
     "metadata": {},
     "output_type": "execute_result"
    }
   ],
   "source": [
    "projSqrd.subs(x1,0).subs(y1,0).subs(x2,0).subs(y2,2).subs(x,1)"
   ]
  },
  {
   "cell_type": "code",
   "execution_count": 93,
   "metadata": {},
   "outputs": [
    {
     "data": {
      "image/png": "[encoded data removed]",
      "text/latex": [
       "$\\displaystyle 100$"
      ],
      "text/plain": [
       "100"
      ]
     },
     "execution_count": 93,
     "metadata": {},
     "output_type": "execute_result"
    }
   ],
   "source": [
    "projSqrd.subs(x1,0).subs(y1,0).subs(x2,0).subs(y2,2).subs(x,1).subs(y,10)"
   ]
  },
  {
   "cell_type": "markdown",
   "metadata": {},
   "source": [
    "So, we have to check if the projection is larger than |p1p2|, and, if so, we know that the test vector pp1\n",
    "is actually LONGER than the triangle side, so we truncate the testing against epsilon^2 by\n",
    "simply computing the distance from the test point p to p2, the other (\"far\") end of the triangle side.\n",
    "\n",
    "That's not described in this document, but it is in the code."
   ]
  }
 ],
 "metadata": {
  "kernelspec": {
   "display_name": "Python 3",
   "language": "python",
   "name": "python3"
  },
  "language_info": {
   "codemirror_mode": {
    "name": "ipython",
    "version": 3
   },
   "file_extension": ".py",
   "mimetype": "text/x-python",
   "name": "python",
   "nbconvert_exporter": "python",
   "pygments_lexer": "ipython3",
   "version": "3.7.2"
  }
 },
 "nbformat": 4,
 "nbformat_minor": 2
}
